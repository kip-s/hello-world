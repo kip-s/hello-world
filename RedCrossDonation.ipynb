{
  "nbformat": 4,
  "nbformat_minor": 0,
  "metadata": {
    "accelerator": "TPU",
    "colab": {
      "name": "Employee Retention.ipynb",
      "provenance": [],
      "collapsed_sections": [],
      "include_colab_link": true
    },
    "kernelspec": {
      "display_name": "Python 3.6",
      "language": "python",
      "name": "python36"
    },
    "language_info": {
      "codemirror_mode": {
        "name": "ipython",
        "version": 3
      },
      "file_extension": ".py",
      "mimetype": "text/x-python",
      "name": "python",
      "nbconvert_exporter": "python",
      "pygments_lexer": "ipython3",
      "version": "3.6.6"
    }
  },
  "cells": [
    {
      "cell_type": "markdown",
      "metadata": {
        "id": "view-in-github",
        "colab_type": "text"
      },
      "source": [
        "<a href=\"https://colab.research.google.com/github/kip-s/hello-world/blob/master/RedCrossDonation.ipynb\" target=\"_parent\"><img src=\"https://colab.research.google.com/assets/colab-badge.svg\" alt=\"Open In Colab\"/></a>"
      ]
    },
    {
      "cell_type": "code",
      "metadata": {
        "id": "0S8skcHFY1fh"
      },
      "source": [
        "# Code Snippet  001\n",
        "# NumPy for numerical computing\n",
        "import numpy as np"
      ],
      "execution_count": null,
      "outputs": []
    },
    {
      "cell_type": "code",
      "metadata": {
        "id": "thsV6G3W6kQs"
      },
      "source": [
        "# Code Snippet  002\n",
        "# Pandas for DataFrames\n",
        "import pandas as pd"
      ],
      "execution_count": null,
      "outputs": []
    },
    {
      "cell_type": "code",
      "metadata": {
        "id": "jnqiVXnKNcyC"
      },
      "source": [
        "# Code Snippet  003\n",
        "# Assigning the dataset to a variable\n",
        "df = pd.read_csv('/content/employee_data.csv')"
      ],
      "execution_count": null,
      "outputs": []
    },
    {
      "cell_type": "code",
      "metadata": {
        "id": "GpDUASfs2ILF"
      },
      "source": [
        "# Code Snippet  004\n",
        "# Displaying contents of a dataset\n",
        "df"
      ],
      "execution_count": null,
      "outputs": []
    },
    {
      "cell_type": "code",
      "metadata": {
        "id": "FSnNPf60Y1f1"
      },
      "source": [
        "# Code Snippet  005\n",
        "# Prints first 5 rows of the DataFrame\n",
        "df.head(10)"
      ],
      "execution_count": null,
      "outputs": []
    },
    {
      "cell_type": "code",
      "metadata": {
        "id": "HpFjunozY1f9"
      },
      "source": [
        "# Code Snippet  006\n",
        "# Prints last 5 rows of the DataFrame\n",
        "df.tail(5) "
      ],
      "execution_count": null,
      "outputs": []
    },
    {
      "cell_type": "code",
      "metadata": {
        "id": "Qg8-IZ5DY1gC"
      },
      "source": [
        "# Code Snippet  007\n",
        "# Summary statistics for numerical columns\n",
        "df.describe() "
      ],
      "execution_count": null,
      "outputs": []
    },
    {
      "cell_type": "code",
      "metadata": {
        "id": "fHlrD-IkY1gH"
      },
      "source": [
        "# Code Snippet  008\n",
        "# Data Structure of the data set\n",
        "df.dtypes"
      ],
      "execution_count": null,
      "outputs": []
    },
    {
      "cell_type": "code",
      "metadata": {
        "id": "7IkdjKoLPQar"
      },
      "source": [
        "# Code Snippet  009\n",
        "# Installing Pandas Profiler for automated detailed Exploratory Data Analysis - Google colabs is preferred\n",
        "!pip install pandas-profiling --upgrade"
      ],
      "execution_count": null,
      "outputs": []
    },
    {
      "cell_type": "code",
      "metadata": {
        "id": "hdGErg6JPXDk"
      },
      "source": [
        "# Code Snippet  010\n",
        "# Generating detailed Exploratory Data Analysis report using Pandas Profiling (will take time) - Works only on Google colabs\n",
        "from pandas_profiling import ProfileReport\n",
        "\n",
        "# Generating the Profile report using Profile Report function\n",
        "df_ERD_report = ProfileReport(df, minimal=True)\n",
        "\n",
        "# Converting the profile report to a html file\n",
        "df_ERD_report.to_file(\"df_ERD_report.html\")"
      ],
      "execution_count": null,
      "outputs": []
    },
    {
      "cell_type": "code",
      "metadata": {
        "id": "GV89t5dePXmu",
        "colab": {
          "base_uri": "https://localhost:8080/",
          "height": 17
        },
        "outputId": "c2a11604-f611-4f70-d657-e7fe3fba5e6f"
      },
      "source": [
        "# Code Snippet  011\n",
        "# Downloading the Pandas Profiling EDA report to local machine\n",
        "from google.colab import files\n",
        "files.download(\"df_ERD_report.html\")"
      ],
      "execution_count": null,
      "outputs": [
        {
          "output_type": "display_data",
          "data": {
            "application/javascript": [
              "\n",
              "    async function download(id, filename, size) {\n",
              "      if (!google.colab.kernel.accessAllowed) {\n",
              "        return;\n",
              "      }\n",
              "      const div = document.createElement('div');\n",
              "      const label = document.createElement('label');\n",
              "      label.textContent = `Downloading \"${filename}\": `;\n",
              "      div.appendChild(label);\n",
              "      const progress = document.createElement('progress');\n",
              "      progress.max = size;\n",
              "      div.appendChild(progress);\n",
              "      document.body.appendChild(div);\n",
              "\n",
              "      const buffers = [];\n",
              "      let downloaded = 0;\n",
              "\n",
              "      const channel = await google.colab.kernel.comms.open(id);\n",
              "      // Send a message to notify the kernel that we're ready.\n",
              "      channel.send({})\n",
              "\n",
              "      for await (const message of channel.messages) {\n",
              "        // Send a message to notify the kernel that we're ready.\n",
              "        channel.send({})\n",
              "        if (message.buffers) {\n",
              "          for (const buffer of message.buffers) {\n",
              "            buffers.push(buffer);\n",
              "            downloaded += buffer.byteLength;\n",
              "            progress.value = downloaded;\n",
              "          }\n",
              "        }\n",
              "      }\n",
              "      const blob = new Blob(buffers, {type: 'application/binary'});\n",
              "      const a = document.createElement('a');\n",
              "      a.href = window.URL.createObjectURL(blob);\n",
              "      a.download = filename;\n",
              "      div.appendChild(a);\n",
              "      a.click();\n",
              "      div.remove();\n",
              "    }\n",
              "  "
            ],
            "text/plain": [
              "<IPython.core.display.Javascript object>"
            ]
          },
          "metadata": {
            "tags": []
          }
        },
        {
          "output_type": "display_data",
          "data": {
            "application/javascript": [
              "download(\"download_cd0c3438-310d-412c-b75b-d506b7094774\", \"df_ERD_report.html\", 586561)"
            ],
            "text/plain": [
              "<IPython.core.display.Javascript object>"
            ]
          },
          "metadata": {
            "tags": []
          }
        }
      ]
    },
    {
      "cell_type": "code",
      "metadata": {
        "id": "5uighMheQSP3"
      },
      "source": [
        "# Code Snippet  012\n",
        "# Exploratory Data Analysis using latest AI based AutoEDA Package - sweetviz\n",
        "!pip install sweetviz"
      ],
      "execution_count": null,
      "outputs": []
    },
    {
      "cell_type": "code",
      "metadata": {
        "id": "ARNYfPNrQ_7U"
      },
      "source": [
        "# Code Snippet  013\n",
        "# Importing the package for use\n",
        "import sweetviz as sv"
      ],
      "execution_count": null,
      "outputs": []
    },
    {
      "cell_type": "code",
      "metadata": {
        "id": "uXb-g-ZdkPrZ"
      },
      "source": [
        "# Code Snippet  014\n",
        "# Generate the EDA report\n",
        "my_report = sv.analyze(df)\n",
        "# Convert the report to HTML \n",
        "my_report.show_html(\"/content/df_ERD_report.html\") # Default arguments will generate to \"SWEETVIZ_REPORT.html\"\n",
        "\n",
        "# Downloading the EDA report to local machine\n",
        "from google.colab import files\n",
        "files.download(\"/content/df_ERD_report.html\")"
      ],
      "execution_count": null,
      "outputs": []
    },
    {
      "cell_type": "code",
      "metadata": {
        "id": "YaegHm1DMCHN"
      },
      "source": [
        "# Code Snippet  015\n",
        "# Qualitiative Cleaning\n",
        "# Selecting only valid variables ignoring noise variables\n",
        "cols = ['status',\n",
        "'avg_monthly_hrs',\n",
        "'n_projects',\n",
        "'department',\n",
        "'filed_complaints',\n",
        "'last_evaluation',\n",
        "'recently_promoted',\n",
        "'salary',\n",
        "'satisfaction',\n",
        "'tenure']"
      ],
      "execution_count": null,
      "outputs": []
    },
    {
      "cell_type": "code",
      "metadata": {
        "id": "BbWVlyYcMNhz"
      },
      "source": [
        "# Code Snippet  016\n",
        "# Setting the dataframe to contain only valid columns\n",
        "df1 = df[cols]\n",
        "df1.columns"
      ],
      "execution_count": null,
      "outputs": []
    },
    {
      "cell_type": "code",
      "metadata": {
        "id": "LSzwyuvOKDAe"
      },
      "source": [
        "# Code Snippet  017\n",
        "# Quantitative Cleaning\n",
        "df1.isnull().sum()"
      ],
      "execution_count": null,
      "outputs": []
    },
    {
      "cell_type": "code",
      "metadata": {
        "id": "xug5wM2kJzsQ"
      },
      "source": [
        "# Code Snippet  018\n",
        "# Replacing specific missing values with mean\n",
        "# First Obtaining Mean of Full time teachers\n",
        "ft_mean = df1['Number Full-time Teachers'].mean()\n",
        "\n",
        "# Second, replacing specific missing values with the above obtained mean -\n",
        "df1['Number Full-time Teachers'].fillna(ft_mean, inplace = True)\n",
        "\n",
        "# We can combine above two operations in one line like below  - \n",
        "# df1['Number Full-time Teachers'] = df1['Number Full-time Teachers'].fillna((df1['Number Full-time Teachers'].mean()))"
      ],
      "execution_count": null,
      "outputs": []
    },
    {
      "cell_type": "code",
      "metadata": {
        "id": "PgvGTk24J96k"
      },
      "source": [
        "# Code Snippet  019\n",
        "# Checking if the operation cleaned the null values\n",
        "df1.isnull().sum()"
      ],
      "execution_count": null,
      "outputs": []
    },
    {
      "cell_type": "code",
      "metadata": {
        "id": "oaDask23J2MU"
      },
      "source": [
        "# Code Snippet  020\n",
        "# Replacing specific missing values with mean - Sample 2\n",
        "df1['Student/Teacher Ratio'] = df1['Student/Teacher Ratio'].fillna((df1['Student/Teacher Ratio'].mean()))"
      ],
      "execution_count": null,
      "outputs": []
    },
    {
      "cell_type": "code",
      "metadata": {
        "id": "rEXtWdovl8_H"
      },
      "source": [
        "# Code Snippet  021\n",
        "# Replacing specific missing values with Median\n",
        "# First Obtaining Median of Percent White\n",
        "pw_median = df1['Percent White'].median()\n",
        "\n",
        "# Second, replacing specific missing values with the above obtained Median -\n",
        "df1['Percent White'] = df1['Percent White'].fillna(pw_median)\n",
        "\n",
        "# We can combine above two operations in one line like below  - \n",
        "# df1['Percent White'] = df1['Percent White'].fillna((df1['Percent White'].median()))"
      ],
      "execution_count": null,
      "outputs": []
    },
    {
      "cell_type": "code",
      "metadata": {
        "id": "fnussVxfITDB"
      },
      "source": [
        "# Code Snippet  022\n",
        "# Replacing missing values with a hard coded value like zero\n",
        "df1['Percent Hispanic'] = df1['Percent Hispanic'].fillna(0)"
      ],
      "execution_count": null,
      "outputs": []
    },
    {
      "cell_type": "code",
      "metadata": {
        "id": "ejlcULcUl-lk"
      },
      "source": [
        "# Code Snippet  023\n",
        "# To replace specific columns with Mode\n",
        "for column in ['District', 'City']:\n",
        "    df1[column].fillna(df1[column].mode()[0], inplace=True)"
      ],
      "execution_count": null,
      "outputs": []
    },
    {
      "cell_type": "code",
      "metadata": {
        "id": "qWVvgk5vmC9t"
      },
      "source": [
        "# Code Snippet  024\n",
        "# Display number of missing values by feature after all quantitative and qualititatve cleaning\n",
        "df1.isnull().sum()"
      ],
      "execution_count": null,
      "outputs": []
    },
    {
      "cell_type": "code",
      "metadata": {
        "id": "eCg_Ggs5NpPG"
      },
      "source": [
        "# Code Snippet  025\n",
        "# Setting Categorical columns\n",
        "cat_cols = ['District',\n",
        "'City',\n",
        "'Zip',\n",
        "'County',\n",
        "'Low Grade',\n",
        "'Is Title I',\n",
        "'Is Charter',\n",
        "'Is Magnet',\n",
        "'Is Virtual']"
      ],
      "execution_count": null,
      "outputs": []
    },
    {
      "cell_type": "code",
      "metadata": {
        "id": "7992Nli5N1mv"
      },
      "source": [
        "# Code Snippet  026\n",
        "# Doing Auto ML with PyCaret\n",
        "!pip install pycaret --upgrade"
      ],
      "execution_count": null,
      "outputs": []
    },
    {
      "cell_type": "code",
      "metadata": {
        "id": "NbrJbSJ3OuMs"
      },
      "source": [
        "# Code Snippet  027\n",
        "#To import all Classification related Pycaret libraries\n",
        "from pycaret.regression import *"
      ],
      "execution_count": null,
      "outputs": []
    },
    {
      "cell_type": "code",
      "metadata": {
        "id": "AXCcwqhSOxkX"
      },
      "source": [
        "# Code Snippet  028\n",
        "# Setting up the Regression ML experiment\n",
        "regression_model_setup = setup(df1,  target = 'Average Standard Score (2018-19)', \n",
        "                               categorical_features= cat_cols,\n",
        "                               train_size = 0.7)"
      ],
      "execution_count": null,
      "outputs": []
    },
    {
      "cell_type": "code",
      "metadata": {
        "id": "JTCJqf4PShSu"
      },
      "source": [
        "# Code Snippet  029\n",
        "# Running the multiple algorithms\n",
        "compare_models()"
      ],
      "execution_count": null,
      "outputs": []
    },
    {
      "cell_type": "code",
      "metadata": {
        "id": "EDMwirf1SmBM"
      },
      "source": [
        "# Code Snippet  030\n",
        "# Creating the model with the best algorithm based on the above results\n",
        "model = create_model('catboost')"
      ],
      "execution_count": null,
      "outputs": []
    },
    {
      "cell_type": "code",
      "metadata": {
        "id": "CamwDcsGTnmy"
      },
      "source": [
        "# Code Snippet  031\n",
        "# Loading the Client dataset for which predictions to be made\n",
        "pred_data = pd.read_csv('/content/FL High Schools Client Dataset.csv')"
      ],
      "execution_count": null,
      "outputs": []
    },
    {
      "cell_type": "code",
      "metadata": {
        "id": "iHiCfTCjYAex"
      },
      "source": [
        "# Code Snippet  032\n",
        "# Predicting the values using the best model\n",
        "predictions = predict_model(model, data = pred_data)"
      ],
      "execution_count": null,
      "outputs": []
    },
    {
      "cell_type": "code",
      "metadata": {
        "id": "X14VS6kNZBYk"
      },
      "source": [
        "# Code Snippet  033\n",
        "# Converting predictions dataframe to csv\n",
        "predictions.to_csv(\"FL School Predictions.csv\")"
      ],
      "execution_count": null,
      "outputs": []
    }
  ]
}